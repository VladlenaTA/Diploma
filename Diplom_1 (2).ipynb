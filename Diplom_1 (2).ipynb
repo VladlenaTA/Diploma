{
  "cells": [
    {
      "cell_type": "markdown",
      "source": [
        "так надо обучать все модели и проверять на одном и том же наборе данных чтобы было честно поэтому разделение на тестовую обучающую и валидационную должно быть в самом начале как и вся предобработка данных\n",
        " удалить бы наверно ненужные колонки\n",
        "\n",
        "Сначала я беру текст анализирую его туда сюда"
      ],
      "metadata": {
        "collapsed": false,
        "id": "_2ZWiuHtlcdp"
      }
    },
    {
      "cell_type": "code",
      "outputs": [],
      "source": [
        "import pandas as pd\n",
        "import torch\n",
        "import torch.nn as nn\n",
        "import torch.optim as optim\n",
        "from torch.utils.data import Dataset, DataLoader"
      ],
      "metadata": {
        "ExecuteTime": {
          "end_time": "2024-04-16T18:44:31.355728Z",
          "start_time": "2024-04-16T18:44:25.579922Z"
        },
        "id": "bMroTznLlcdq"
      },
      "execution_count": null
    },
    {
      "cell_type": "code",
      "outputs": [
        {
          "name": "stdout",
          "output_type": "stream",
          "text": [
            "Requirement already satisfied: transformers in c:\\users\\qwe11\\pycharmprojects\\ner_task\\venv\\lib\\site-packages (4.30.2)\n",
            "Requirement already satisfied: pyyaml>=5.1 in c:\\users\\qwe11\\pycharmprojects\\ner_task\\venv\\lib\\site-packages (from transformers) (6.0)\n",
            "Requirement already satisfied: regex!=2019.12.17 in c:\\users\\qwe11\\pycharmprojects\\ner_task\\venv\\lib\\site-packages (from transformers) (2023.6.3)\n",
            "Requirement already satisfied: filelock in c:\\users\\qwe11\\pycharmprojects\\ner_task\\venv\\lib\\site-packages (from transformers) (3.12.2)\n",
            "Requirement already satisfied: packaging>=20.0 in c:\\users\\qwe11\\pycharmprojects\\ner_task\\venv\\lib\\site-packages (from transformers) (23.1)\n",
            "Requirement already satisfied: tokenizers!=0.11.3,<0.14,>=0.11.1 in c:\\users\\qwe11\\pycharmprojects\\ner_task\\venv\\lib\\site-packages (from transformers) (0.13.3)\n",
            "Requirement already satisfied: safetensors>=0.3.1 in c:\\users\\qwe11\\pycharmprojects\\ner_task\\venv\\lib\\site-packages (from transformers) (0.3.1)\n",
            "Requirement already satisfied: requests in c:\\users\\qwe11\\pycharmprojects\\ner_task\\venv\\lib\\site-packages (from transformers) (2.31.0)\n",
            "Requirement already satisfied: huggingface-hub<1.0,>=0.14.1 in c:\\users\\qwe11\\pycharmprojects\\ner_task\\venv\\lib\\site-packages (from transformers) (0.16.4)\n",
            "Requirement already satisfied: tqdm>=4.27 in c:\\users\\qwe11\\pycharmprojects\\ner_task\\venv\\lib\\site-packages (from transformers) (4.65.0)\n",
            "Requirement already satisfied: numpy>=1.17 in c:\\users\\qwe11\\pycharmprojects\\ner_task\\venv\\lib\\site-packages (from transformers) (1.25.1)\n",
            "Requirement already satisfied: fsspec in c:\\users\\qwe11\\pycharmprojects\\ner_task\\venv\\lib\\site-packages (from huggingface-hub<1.0,>=0.14.1->transformers) (2023.6.0)\n",
            "Requirement already satisfied: typing-extensions>=3.7.4.3 in c:\\users\\qwe11\\pycharmprojects\\ner_task\\venv\\lib\\site-packages (from huggingface-hub<1.0,>=0.14.1->transformers) (4.7.1)\n",
            "Requirement already satisfied: colorama in c:\\users\\qwe11\\pycharmprojects\\ner_task\\venv\\lib\\site-packages (from tqdm>=4.27->transformers) (0.4.6)\n",
            "Requirement already satisfied: urllib3<3,>=1.21.1 in c:\\users\\qwe11\\pycharmprojects\\ner_task\\venv\\lib\\site-packages (from requests->transformers) (1.26.16)\n",
            "Requirement already satisfied: idna<4,>=2.5 in c:\\users\\qwe11\\pycharmprojects\\ner_task\\venv\\lib\\site-packages (from requests->transformers) (3.4)\n",
            "Requirement already satisfied: certifi>=2017.4.17 in c:\\users\\qwe11\\pycharmprojects\\ner_task\\venv\\lib\\site-packages (from requests->transformers) (2023.5.7)\n",
            "Requirement already satisfied: charset-normalizer<4,>=2 in c:\\users\\qwe11\\pycharmprojects\\ner_task\\venv\\lib\\site-packages (from requests->transformers) (3.2.0)\n"
          ]
        },
        {
          "name": "stderr",
          "output_type": "stream",
          "text": [
            "\n",
            "[notice] A new release of pip available: 22.3.1 -> 24.0\n",
            "[notice] To update, run: python.exe -m pip install --upgrade pip\n"
          ]
        },
        {
          "name": "stdout",
          "output_type": "stream",
          "text": [
            "Requirement already satisfied: nltk in c:\\users\\qwe11\\pycharmprojects\\ner_task\\venv\\lib\\site-packages (3.8.1)\n",
            "Requirement already satisfied: joblib in c:\\users\\qwe11\\pycharmprojects\\ner_task\\venv\\lib\\site-packages (from nltk) (1.3.1)\n",
            "Requirement already satisfied: click in c:\\users\\qwe11\\pycharmprojects\\ner_task\\venv\\lib\\site-packages (from nltk) (8.1.4)\n",
            "Requirement already satisfied: regex>=2021.8.3 in c:\\users\\qwe11\\pycharmprojects\\ner_task\\venv\\lib\\site-packages (from nltk) (2023.6.3)\n",
            "Requirement already satisfied: tqdm in c:\\users\\qwe11\\pycharmprojects\\ner_task\\venv\\lib\\site-packages (from nltk) (4.65.0)\n",
            "Requirement already satisfied: colorama in c:\\users\\qwe11\\pycharmprojects\\ner_task\\venv\\lib\\site-packages (from click->nltk) (0.4.6)\n"
          ]
        },
        {
          "name": "stderr",
          "output_type": "stream",
          "text": [
            "\n",
            "[notice] A new release of pip available: 22.3.1 -> 24.0\n",
            "[notice] To update, run: python.exe -m pip install --upgrade pip\n"
          ]
        }
      ],
      "source": [
        "!pip install transformers\n",
        "!pip install nltk\n",
        "\n",
        "from transformers import BertTokenizer, BertForSequenceClassification\n",
        "import re\n",
        "import nltk\n",
        "from nltk.corpus import stopwords\n",
        "\n",
        "from tqdm import tqdm\n",
        "\n",
        "from sklearn.model_selection import train_test_split\n",
        "from transformers import AdamW, get_linear_schedule_with_warmup\n",
        "#import torchvision\n",
        "import torch.nn as nn\n",
        "import torch.nn.functional as F\n",
        "#from torchvision import transforms, utils, datasets\n",
        "from torch.utils.data import Dataset, DataLoader, TensorDataset, random_split, RandomSampler, SequentialSampler\n",
        "import os"
      ],
      "metadata": {
        "ExecuteTime": {
          "end_time": "2024-04-16T18:44:36.016387Z",
          "start_time": "2024-04-16T18:44:31.356731Z"
        },
        "id": "Rz0jWKPmlcdr",
        "outputId": "b9410856-a51e-4749-d954-da4bb9f7978f"
      },
      "execution_count": null
    },
    {
      "cell_type": "code",
      "outputs": [
        {
          "name": "stdout",
          "output_type": "stream",
          "text": [
            "Using device: cuda\n"
          ]
        }
      ],
      "source": [
        "# Проверка доступна ли куда\n",
        "device = torch.device(\"cuda\" if torch.cuda.is_available() else \"cpu\")\n",
        "print(f'Using device: {device}')"
      ],
      "metadata": {
        "ExecuteTime": {
          "end_time": "2024-04-16T18:44:36.048387Z",
          "start_time": "2024-04-16T18:44:36.017389Z"
        },
        "id": "JizEsiDPlcdr",
        "outputId": "94e26593-80b6-4073-d6c6-fef31d2fa98c"
      },
      "execution_count": null
    },
    {
      "cell_type": "code",
      "outputs": [
        {
          "data": {
            "text/plain": "                                             address      name_ru  rating  \\\n0  Свердловская область, Екатеринбург, Орджоникид...  Гипер Лента       4   \n1                          Москва, улица Кадырова, 1     ГОРЗДРАВ       2   \n2                     Ростов-на-Дону, парк Аллея Роз    Аллея Роз       3   \n3  Санкт-Петербург, Приморский проспект, 137, кор...    Пятёрочка       4   \n4                               Смоленск, сад Блонье        Олень       5   \n\n                   rubrics                                               text  \\\n0  Продуктовый гипермаркет  Ги пер весьма приемлемый. Огромный ассортимент...   \n1                   Аптека  Не понравилась аптека. Лекарства дорогие. И де...   \n2   Парк культуры и отдыха  После небольшого перерыва посетила Аллею роз и...   \n3              Супермаркет  Раньше \"Пятёрочка\" мне не нравилось. В кассе б...   \n4      Жанровая скульптура  На фото не сам олень).\\nЛюбимое место для отды...   \n\n   tone  text_length  word_count  \\\n0     1          411          59   \n1     0          632          99   \n2     1          179          25   \n3     1          333          54   \n4     2          161          26   \n\n                                        cleaned_text  \n0  ги пер весьма приемлемый огромный ассортимент ...  \n1  не понравилась аптека лекарства дорогие и дело...  \n2  после небольшого перерыва посетила аллею роз п...  \n3  раньше пятёрочка нравилось в кассе большая оче...  \n4  на фото оленьnлюбимое место отдыха прогулок це...  ",
            "text/html": "<div>\n<style scoped>\n    .dataframe tbody tr th:only-of-type {\n        vertical-align: middle;\n    }\n\n    .dataframe tbody tr th {\n        vertical-align: top;\n    }\n\n    .dataframe thead th {\n        text-align: right;\n    }\n</style>\n<table border=\"1\" class=\"dataframe\">\n  <thead>\n    <tr style=\"text-align: right;\">\n      <th></th>\n      <th>address</th>\n      <th>name_ru</th>\n      <th>rating</th>\n      <th>rubrics</th>\n      <th>text</th>\n      <th>tone</th>\n      <th>text_length</th>\n      <th>word_count</th>\n      <th>cleaned_text</th>\n    </tr>\n  </thead>\n  <tbody>\n    <tr>\n      <th>0</th>\n      <td>Свердловская область, Екатеринбург, Орджоникид...</td>\n      <td>Гипер Лента</td>\n      <td>4</td>\n      <td>Продуктовый гипермаркет</td>\n      <td>Ги пер весьма приемлемый. Огромный ассортимент...</td>\n      <td>1</td>\n      <td>411</td>\n      <td>59</td>\n      <td>ги пер весьма приемлемый огромный ассортимент ...</td>\n    </tr>\n    <tr>\n      <th>1</th>\n      <td>Москва, улица Кадырова, 1</td>\n      <td>ГОРЗДРАВ</td>\n      <td>2</td>\n      <td>Аптека</td>\n      <td>Не понравилась аптека. Лекарства дорогие. И де...</td>\n      <td>0</td>\n      <td>632</td>\n      <td>99</td>\n      <td>не понравилась аптека лекарства дорогие и дело...</td>\n    </tr>\n    <tr>\n      <th>2</th>\n      <td>Ростов-на-Дону, парк Аллея Роз</td>\n      <td>Аллея Роз</td>\n      <td>3</td>\n      <td>Парк культуры и отдыха</td>\n      <td>После небольшого перерыва посетила Аллею роз и...</td>\n      <td>1</td>\n      <td>179</td>\n      <td>25</td>\n      <td>после небольшого перерыва посетила аллею роз п...</td>\n    </tr>\n    <tr>\n      <th>3</th>\n      <td>Санкт-Петербург, Приморский проспект, 137, кор...</td>\n      <td>Пятёрочка</td>\n      <td>4</td>\n      <td>Супермаркет</td>\n      <td>Раньше \"Пятёрочка\" мне не нравилось. В кассе б...</td>\n      <td>1</td>\n      <td>333</td>\n      <td>54</td>\n      <td>раньше пятёрочка нравилось в кассе большая оче...</td>\n    </tr>\n    <tr>\n      <th>4</th>\n      <td>Смоленск, сад Блонье</td>\n      <td>Олень</td>\n      <td>5</td>\n      <td>Жанровая скульптура</td>\n      <td>На фото не сам олень).\\nЛюбимое место для отды...</td>\n      <td>2</td>\n      <td>161</td>\n      <td>26</td>\n      <td>на фото оленьnлюбимое место отдыха прогулок це...</td>\n    </tr>\n  </tbody>\n</table>\n</div>"
          },
          "execution_count": 13,
          "metadata": {},
          "output_type": "execute_result"
        }
      ],
      "source": [
        "# Загрузка данных\n",
        "data = pd.read_parquet('cleaned_data.parquet')\n",
        "data.head()"
      ],
      "metadata": {
        "ExecuteTime": {
          "end_time": "2024-04-16T19:03:27.194455Z",
          "start_time": "2024-04-16T19:03:26.642762Z"
        },
        "id": "a2gEE5CRlcds",
        "outputId": "16f493af-9018-440d-ffb1-3e2e111397ef"
      },
      "execution_count": null
    },
    {
      "cell_type": "markdown",
      "source": [
        "тут решаем проблему того что если я буду использовать простую недообученную модель6 то не все веса были задействованы и дообучаем модель на примере текста"
      ],
      "metadata": {
        "collapsed": false,
        "id": "IUBU9mDGlcds"
      }
    },
    {
      "cell_type": "code",
      "outputs": [
        {
          "name": "stdout",
          "output_type": "stream",
          "text": [
            "Всего строк в датасете: 87285\n"
          ]
        }
      ],
      "source": [
        "# Подсчет количества строк в датасете\n",
        "total_rows = data.shape[0]\n",
        "print(f\"Всего строк в датасете: {total_rows}\")\n"
      ],
      "metadata": {
        "ExecuteTime": {
          "end_time": "2024-04-16T19:03:34.618858Z",
          "start_time": "2024-04-16T19:03:34.604861Z"
        },
        "id": "U4WONerilcds",
        "outputId": "6b92b008-287c-4221-8008-2fbb4ef8c1dc"
      },
      "execution_count": null
    },
    {
      "cell_type": "code",
      "outputs": [],
      "source": [
        "tqdm.pandas()\n",
        "\n",
        "label_dict = {'Negative': 0, 'Neutral': 1, 'Positive': 2}"
      ],
      "metadata": {
        "ExecuteTime": {
          "end_time": "2024-04-16T19:04:59.075265Z",
          "start_time": "2024-04-16T19:04:59.067267Z"
        },
        "id": "QLYX8Xjwlcds"
      },
      "execution_count": null
    },
    {
      "cell_type": "code",
      "outputs": [],
      "source": [
        "# Разбиение данных на тренировочные и временные (тест + валидация) наборы\n",
        "train_df, temp_df = train_test_split(data, test_size=0.4, random_state=42, stratify=data['tone'])\n",
        "\n",
        "# Разбиение временного набора на тестовые и валидационные наборы\n",
        "test_df, val_df = train_test_split(temp_df, test_size=0.5, random_state=42, stratify=temp_df['tone'])"
      ],
      "metadata": {
        "ExecuteTime": {
          "end_time": "2024-04-16T19:05:00.957967Z",
          "start_time": "2024-04-16T19:05:00.880968Z"
        },
        "id": "9b2a57edlcds"
      },
      "execution_count": null
    },
    {
      "cell_type": "code",
      "outputs": [],
      "source": [
        "# Загрузка токенизатора\n",
        "tokenizer = BertTokenizer.from_pretrained('bert-base-uncased')\n",
        "\n",
        "# Функция для подготовки данных\n",
        "def prepare_data(df):\n",
        "    # Токенизация текстов\n",
        "    encodings = tokenizer(df['cleaned_text'].tolist(), truncation=True, padding=True, max_length=128, return_tensors=\"pt\")\n",
        "\n",
        "    # Преобразование labels в тензоры\n",
        "    labels = torch.tensor(df['tone'].values)\n",
        "\n",
        "    # Создание TensorDataset\n",
        "    dataset = TensorDataset(encodings['input_ids'], encodings['attention_mask'], labels)\n",
        "    return dataset\n",
        "\n",
        "# Создание наборов данных\n",
        "train_dataset = prepare_data(train_df)\n",
        "val_dataset = prepare_data(val_df)\n",
        "test_dataset = prepare_data(test_df)\n",
        "\n",
        "# Создание DataLoader\n",
        "train_dataloader = DataLoader(train_dataset, sampler=RandomSampler(train_dataset), batch_size=16)\n",
        "validation_dataloader = DataLoader(val_dataset, sampler=SequentialSampler(val_dataset), batch_size=16)\n",
        "test_dataloader = DataLoader(test_dataset, sampler=SequentialSampler(test_dataset), batch_size=16)"
      ],
      "metadata": {
        "ExecuteTime": {
          "end_time": "2024-04-16T19:06:44.503604Z",
          "start_time": "2024-04-16T19:05:34.171231Z"
        },
        "id": "HRmE1QILlcds"
      },
      "execution_count": null
    },
    {
      "cell_type": "code",
      "outputs": [
        {
          "name": "stderr",
          "output_type": "stream",
          "text": [
            "Some weights of the model checkpoint at bert-base-uncased were not used when initializing BertForSequenceClassification: ['cls.seq_relationship.weight', 'cls.predictions.bias', 'cls.predictions.transform.dense.bias', 'cls.seq_relationship.bias', 'cls.predictions.transform.LayerNorm.weight', 'cls.predictions.transform.LayerNorm.bias', 'cls.predictions.transform.dense.weight']\n",
            "- This IS expected if you are initializing BertForSequenceClassification from the checkpoint of a model trained on another task or with another architecture (e.g. initializing a BertForSequenceClassification model from a BertForPreTraining model).\n",
            "- This IS NOT expected if you are initializing BertForSequenceClassification from the checkpoint of a model that you expect to be exactly identical (initializing a BertForSequenceClassification model from a BertForSequenceClassification model).\n",
            "Some weights of BertForSequenceClassification were not initialized from the model checkpoint at bert-base-uncased and are newly initialized: ['classifier.weight', 'classifier.bias']\n",
            "You should probably TRAIN this model on a down-stream task to be able to use it for predictions and inference.\n"
          ]
        },
        {
          "data": {
            "text/plain": "BertForSequenceClassification(\n  (bert): BertModel(\n    (embeddings): BertEmbeddings(\n      (word_embeddings): Embedding(30522, 768, padding_idx=0)\n      (position_embeddings): Embedding(512, 768)\n      (token_type_embeddings): Embedding(2, 768)\n      (LayerNorm): LayerNorm((768,), eps=1e-12, elementwise_affine=True)\n      (dropout): Dropout(p=0.1, inplace=False)\n    )\n    (encoder): BertEncoder(\n      (layer): ModuleList(\n        (0-11): 12 x BertLayer(\n          (attention): BertAttention(\n            (self): BertSelfAttention(\n              (query): Linear(in_features=768, out_features=768, bias=True)\n              (key): Linear(in_features=768, out_features=768, bias=True)\n              (value): Linear(in_features=768, out_features=768, bias=True)\n              (dropout): Dropout(p=0.1, inplace=False)\n            )\n            (output): BertSelfOutput(\n              (dense): Linear(in_features=768, out_features=768, bias=True)\n              (LayerNorm): LayerNorm((768,), eps=1e-12, elementwise_affine=True)\n              (dropout): Dropout(p=0.1, inplace=False)\n            )\n          )\n          (intermediate): BertIntermediate(\n            (dense): Linear(in_features=768, out_features=3072, bias=True)\n            (intermediate_act_fn): GELUActivation()\n          )\n          (output): BertOutput(\n            (dense): Linear(in_features=3072, out_features=768, bias=True)\n            (LayerNorm): LayerNorm((768,), eps=1e-12, elementwise_affine=True)\n            (dropout): Dropout(p=0.1, inplace=False)\n          )\n        )\n      )\n    )\n    (pooler): BertPooler(\n      (dense): Linear(in_features=768, out_features=768, bias=True)\n      (activation): Tanh()\n    )\n  )\n  (dropout): Dropout(p=0.1, inplace=False)\n  (classifier): Linear(in_features=768, out_features=3, bias=True)\n)"
          },
          "execution_count": 19,
          "metadata": {},
          "output_type": "execute_result"
        }
      ],
      "source": [
        "model = BertForSequenceClassification.from_pretrained('bert-base-uncased', num_labels=len(label_dict))\n",
        "device = torch.device(\"cuda\" if torch.cuda.is_available() else \"cpu\")\n",
        "model.to(device)"
      ],
      "metadata": {
        "ExecuteTime": {
          "end_time": "2024-04-16T19:07:02.324662Z",
          "start_time": "2024-04-16T19:07:01.263468Z"
        },
        "id": "_91drq7Dlcdt",
        "outputId": "5d9b2e74-c8de-4f92-f06f-f9732f90bff2"
      },
      "execution_count": null
    },
    {
      "cell_type": "code",
      "outputs": [
        {
          "name": "stderr",
          "output_type": "stream",
          "text": [
            "C:\\Users\\qwe11\\PycharmProjects\\Ner_task\\venv\\lib\\site-packages\\transformers\\optimization.py:411: FutureWarning: This implementation of AdamW is deprecated and will be removed in a future version. Use the PyTorch implementation torch.optim.AdamW instead, or set `no_deprecation_warning=True` to disable this warning\n",
            "  warnings.warn(\n"
          ]
        },
        {
          "name": "stdout",
          "output_type": "stream",
          "text": [
            "Эпоха 1\n",
            "Средняя потеря на тренировке: 0.8991\n",
            "Эпоха 2\n",
            "Средняя потеря на тренировке: 0.7526\n",
            "Эпоха 3\n",
            "Средняя потеря на тренировке: 0.6753\n",
            "Эпоха 4\n",
            "Средняя потеря на тренировке: 0.6162\n"
          ]
        }
      ],
      "source": [
        "# Определение оптимизатора\n",
        "optimizer = AdamW(model.parameters(), lr=5e-5)\n",
        "\n",
        "# Общее количество шагов обучения\n",
        "total_steps = len(train_dataloader) * 6  # Пример для 4 эпох обучения\n",
        "\n",
        "# Создание планировщика скорости обучения\n",
        "scheduler = get_linear_schedule_with_warmup(optimizer, num_warmup_steps=0, num_training_steps=total_steps)\n",
        "\n",
        "# Функция потерь\n",
        "loss_fn = nn.CrossEntropyLoss()\n",
        "\n",
        "# Функция для выполнения одной эпохи обучения\n",
        "def train_epoch(model, dataloader, optimizer, device, loss_fn, scheduler):\n",
        "    model.train()\n",
        "    total_loss = 0\n",
        "\n",
        "    for step, batch in enumerate(dataloader):\n",
        "        batch = [r.to(device) for r in batch]\n",
        "        inputs = {\n",
        "            'input_ids': batch[0],\n",
        "            'attention_mask': batch[1],\n",
        "            'labels': batch[2]\n",
        "        }\n",
        "\n",
        "        outputs = model(**inputs)\n",
        "        loss = outputs.loss if outputs.loss is not None else loss_fn(outputs.logits, inputs['labels'])\n",
        "\n",
        "        # Обратное распространение\n",
        "        loss.backward()\n",
        "\n",
        "        # Ограничение для предотвращения взрыва градиентов\n",
        "        torch.nn.utils.clip_grad_norm_(model.parameters(), max_norm=1.0)\n",
        "\n",
        "        # Шаг оптимизатора и планировщика\n",
        "        optimizer.step()\n",
        "        scheduler.step()\n",
        "        optimizer.zero_grad()\n",
        "\n",
        "        total_loss += loss.item()\n",
        "\n",
        "    return total_loss / len(dataloader)\n",
        "\n",
        "# Обучение модели\n",
        "for epoch in range(6):  # Для примера используем 4 эпохи\n",
        "    print(f'Эпоха {epoch+1}')\n",
        "    avg_train_loss = train_epoch(model, train_dataloader, optimizer, device, loss_fn, scheduler)\n",
        "    print(f'Средняя потеря на тренировке: {avg_train_loss:.4f}')"
      ],
      "metadata": {
        "ExecuteTime": {
          "end_time": "2024-04-16T19:28:01.909526Z",
          "start_time": "2024-04-16T19:07:29.312161Z"
        },
        "id": "jyD8Qiqtlcdt",
        "outputId": "66d99a68-7dc5-4234-d98f-8714efce5c0c"
      },
      "execution_count": null
    },
    {
      "cell_type": "code",
      "outputs": [
        {
          "name": "stdout",
          "output_type": "stream",
          "text": [
            "Дообученная модель и токенизатор сохранены в model_fineTuned\n"
          ]
        }
      ],
      "source": [
        "# Пути для сохранения дообученной модели и токенизатора\n",
        "model_save_path = 'model_fineTuned'\n",
        "tokenizer_save_path = 'model_fineTuned'\n",
        "\n",
        "# Создайте папку, если она ещё не существует\n",
        "if not os.path.exists(model_save_path):\n",
        "    os.makedirs(model_save_path)\n",
        "\n",
        "# Сохранение дообученной модели и токенизатора\n",
        "model.save_pretrained(model_save_path)\n",
        "tokenizer.save_pretrained(tokenizer_save_path)\n",
        "\n",
        "print(f\"Дообученная модель и токенизатор сохранены в {model_save_path}\")\n"
      ],
      "metadata": {
        "ExecuteTime": {
          "end_time": "2024-04-16T19:28:02.290524Z",
          "start_time": "2024-04-16T19:28:01.910525Z"
        },
        "id": "jBxgEjcPlcdt",
        "outputId": "57ac30e9-2360-45b1-dd88-f6937609718b"
      },
      "execution_count": null
    },
    {
      "cell_type": "code",
      "outputs": [
        {
          "name": "stdout",
          "output_type": "stream",
          "text": [
            "Точность на валидационном наборе: 0.86332\n",
            "Точность на тестовом наборе: 0.86332\n"
          ]
        }
      ],
      "source": [
        "\n",
        "# Функция для вычисления точности на наборе данных\n",
        "def evaluate_accuracy(model, dataloader, device):\n",
        "    model.eval()  # Переключить модель в режим оценки\n",
        "    correct_predictions = 0\n",
        "    total_predictions = 0\n",
        "\n",
        "    with torch.no_grad():\n",
        "        for batch in dataloader:\n",
        "            batch = tuple(t.to(device) for t in batch)\n",
        "            inputs = {'input_ids': batch[0],\n",
        "                      'attention_mask': batch[1],\n",
        "                      'labels': batch[2]}\n",
        "            outputs = model(**inputs)\n",
        "            _, predicted_labels = torch.max(outputs.logits, dim=1)\n",
        "            correct_predictions += (predicted_labels == inputs['labels']).sum().item()\n",
        "            total_predictions += inputs['labels'].size(0)\n",
        "\n",
        "    accuracy = correct_predictions / total_predictions\n",
        "    return accuracy\n",
        "\n",
        "# Создание DataLoader для валидационного и тестового наборов данных\n",
        "\n",
        "validation_dataloader = DataLoader(val_dataset, sampler=SequentialSampler(val_dataset), batch_size=16)\n",
        "test_dataloader = DataLoader(test_dataset, sampler=SequentialSampler(test_dataset), batch_size=16)\n",
        "\n",
        "# Валидация модели после обучения\n",
        "validation_accuracy = evaluate_accuracy(model, validation_dataloader, device)\n",
        "print(\"Точность на валидационном наборе:\", validation_accuracy)\n",
        "\n",
        "# Тестирование модели\n",
        "test_accuracy = evaluate_accuracy(model, test_dataloader, device)\n",
        "print(\"Точность на тестовом наборе:\", test_accuracy)"
      ],
      "metadata": {
        "ExecuteTime": {
          "end_time": "2024-04-16T14:45:03.849567Z",
          "start_time": "2024-04-16T14:42:05.376931Z"
        },
        "id": "f1yFnFuLlcdt",
        "outputId": "779a7fa3-6bff-46cd-d58a-9d03ba76d105"
      },
      "execution_count": null
    },
    {
      "cell_type": "code",
      "outputs": [
        {
          "name": "stdout",
          "output_type": "stream",
          "text": [
            "Отчёт по классификации:\n",
            "              precision    recall  f1-score       support\n",
            "Negative       0.733290  0.719880  0.726523   4648.000000\n",
            "Neutral        0.645913  0.644884  0.645398   6274.000000\n",
            "Positive       0.759879  0.770926  0.765363   6535.000000\n",
            "accuracy       0.712035  0.712035  0.712035      0.712035\n",
            "macro avg      0.713027  0.711896  0.712428  17457.000000\n",
            "weighted avg   0.711841  0.712035  0.711906  17457.000000\n",
            " \n",
            "Пояснение:\n",
            "- precision: доля правильно предсказанных примеров для каждого класса.\n",
            "- recall: доля правильно найденных примеров для каждого класса.\n",
            "- f1-score: среднее гармоническое precision и recall.\n",
            "- support: количество примеров в каждом классе.\n",
            " \n",
            "Матрица ошибок:\n"
          ]
        },
        {
          "data": {
            "text/plain": "<Figure size 800x600 with 2 Axes>",
            "image/png": "[encoded data removed]"
          },
          "metadata": {},
          "output_type": "display_data"
        },
        {
          "name": "stdout",
          "output_type": "stream",
          "text": [
            " \n",
            "Пояснение:\n",
            "Матрица ошибок показывает, сколько примеров каждого класса были правильно и неправильно классифицированы.\n",
            " \n",
            "Accuracy (точность): 0.7120\n",
            " \n",
            "Пояснение:\n",
            "Accuracy - это доля правильно предсказанных примеров.\n",
            " \n",
            "Precision (macro): 0.7130\n",
            "Recall (macro): 0.7119\n",
            "F1-score (macro): 0.7124\n",
            " \n",
            "Пояснение:\n",
            "Macro-усреднение вычисляет средние значения метрик для всех классов, придавая каждому классу одинаковый вес.\n",
            " \n",
            "Отчёт по классификации:\n",
            "              precision    recall  f1-score       support\n",
            "Negative       0.722259  0.695998  0.708886   4648.000000\n",
            "Neutral        0.642626  0.631973  0.637255   6274.000000\n",
            "Positive       0.751322  0.782708  0.766694   6535.000000\n",
            "accuracy       0.705448  0.705448  0.705448      0.705448\n",
            "macro avg      0.705402  0.703560  0.704278  17457.000000\n",
            "weighted avg   0.704519  0.705448  0.704782  17457.000000\n",
            " \n",
            "Пояснение:\n",
            "- precision: доля правильно предсказанных примеров для каждого класса.\n",
            "- recall: доля правильно найденных примеров для каждого класса.\n",
            "- f1-score: среднее гармоническое precision и recall.\n",
            "- support: количество примеров в каждом классе.\n",
            " \n",
            "Матрица ошибок:\n"
          ]
        },
        {
          "data": {
            "text/plain": "<Figure size 800x600 with 2 Axes>",
            "image/png": "[encoded data removed]"
          },
          "metadata": {},
          "output_type": "display_data"
        },
        {
          "name": "stdout",
          "output_type": "stream",
          "text": [
            " \n",
            "Пояснение:\n",
            "Матрица ошибок показывает, сколько примеров каждого класса были правильно и неправильно классифицированы.\n",
            " \n",
            "Accuracy (точность): 0.7054\n",
            " \n",
            "Пояснение:\n",
            "Accuracy - это доля правильно предсказанных примеров.\n",
            " \n",
            "Precision (macro): 0.7054\n",
            "Recall (macro): 0.7036\n",
            "F1-score (macro): 0.7043\n",
            " \n",
            "Пояснение:\n",
            "Macro-усреднение вычисляет средние значения метрик для всех классов, придавая каждому классу одинаковый вес.\n",
            " \n"
          ]
        }
      ],
      "source": [
        "import pandas as pd\n",
        "import matplotlib.pyplot as plt\n",
        "import seaborn as sns\n",
        "from sklearn.metrics import classification_report, confusion_matrix, accuracy_score, precision_recall_fscore_support\n",
        "\n",
        "\n",
        "\n",
        "# Функция для вычисления метрик и построения графиков\n",
        "def evaluate_model(model, dataloader, device):\n",
        "    model.eval()\n",
        "    all_labels = []\n",
        "    all_predictions = []\n",
        "    with torch.no_grad():\n",
        "        for batch in dataloader:\n",
        "            batch = tuple(t.to(device) for t in batch)\n",
        "            inputs = {'input_ids': batch[0],\n",
        "                      'attention_mask': batch[1],\n",
        "                      'labels': batch[2]}\n",
        "            outputs = model(**inputs)\n",
        "            _, predicted_labels = torch.max(outputs.logits, dim=1)\n",
        "            all_labels.extend(inputs['labels'].cpu().numpy())\n",
        "            all_predictions.extend(predicted_labels.cpu().numpy())\n",
        "\n",
        "    # 1. Classification отчет\n",
        "    print(\"Отчёт по классификации:\")\n",
        "    report = classification_report(all_labels, all_predictions, target_names=label_dict.keys(), output_dict=True)\n",
        "    report_df = pd.DataFrame(report).transpose()\n",
        "    print(report_df.to_string())\n",
        "    print(\" \")\n",
        "    print(\"Пояснение:\")\n",
        "    print(\"- precision: доля правильно предсказанных примеров для каждого класса.\")\n",
        "    print(\"- recall: доля правильно найденных примеров для каждого класса.\")\n",
        "    print(\"- f1-score: среднее гармоническое precision и recall.\")\n",
        "    print(\"- support: количество примеров в каждом классе.\")\n",
        "    print(\" \")\n",
        "\n",
        "    # 2. Confusion matrix\n",
        "    print(\"Матрица ошибок:\")\n",
        "    cm = confusion_matrix(all_labels, all_predictions)\n",
        "    plt.figure(figsize=(8, 6))\n",
        "    sns.heatmap(cm, annot=True, fmt='d', cmap='Blues', xticklabels=label_dict.keys(), yticklabels=label_dict.keys())\n",
        "    plt.title('Матрица ошибок')\n",
        "    plt.xlabel('Предсказанный класс')\n",
        "    plt.ylabel('Истинный класс')\n",
        "    plt.show()\n",
        "    print(\" \")\n",
        "    print(\"Пояснение:\")\n",
        "    print(\"Матрица ошибок показывает, сколько примеров каждого класса были правильно и неправильно классифицированы.\")\n",
        "    print(\" \")\n",
        "\n",
        "    # 3. Accuracy\n",
        "    accuracy = accuracy_score(all_labels, all_predictions)\n",
        "    print(f\"Accuracy (точность): {accuracy:.4f}\")\n",
        "    print(\" \")\n",
        "    print(\"Пояснение:\")\n",
        "    print(\"Accuracy - это доля правильно предсказанных примеров.\")\n",
        "    print(\" \")\n",
        "\n",
        "    # 4. Precision, Recall, F1-score (macro)\n",
        "    precision, recall, f1, _ = precision_recall_fscore_support(all_labels, all_predictions, average='macro')\n",
        "    print(f\"Precision (macro): {precision:.4f}\")\n",
        "    print(f\"Recall (macro): {recall:.4f}\")\n",
        "    print(f\"F1-score (macro): {f1:.4f}\")\n",
        "    print(\" \")\n",
        "    print(\"Пояснение:\")\n",
        "    print(\"Macro-усреднение вычисляет средние значения метрик для всех классов, придавая каждому классу одинаковый вес.\")\n",
        "    print(\" \")\n",
        "\n",
        "\n",
        "# Оценка модели на валидационном и тестовом наборах\n",
        "evaluate_model(model, validation_dataloader, device)\n",
        "evaluate_model(model, test_dataloader, device)"
      ],
      "metadata": {
        "ExecuteTime": {
          "end_time": "2024-04-16T19:29:06.225759Z",
          "start_time": "2024-04-16T19:28:02.291525Z"
        },
        "id": "s0UZM66Qlcdu",
        "outputId": "695aca43-5235-4e77-d2f8-52724e927fd8"
      },
      "execution_count": null
    },
    {
      "cell_type": "markdown",
      "source": [
        "потом я размечаю весь текст на уже готовой моделе, но с использованием данных о рейтинге места"
      ],
      "metadata": {
        "collapsed": false,
        "id": "I1xoBJO9lcdu"
      }
    },
    {
      "cell_type": "code",
      "outputs": [],
      "source": [
        "\n",
        "# Загрузка новых данных\n",
        "new_data = pd.read_parquet('cleaned_data.parquet')\n",
        "\n",
        "\n",
        "# Загрузка модели и токенизатора\n",
        "tokenizer = tokenizer\n",
        "model = model\n",
        "\n",
        "\n",
        "# Функция для токенизации текста\n",
        "def tokenize_text(text):\n",
        "    tokens = tokenizer.encode_plus(\n",
        "        text,\n",
        "        add_special_tokens=True,\n",
        "        max_length=512,\n",
        "        padding='max_length',\n",
        "        truncation=True,\n",
        "        return_attention_mask=True,\n",
        "        return_tensors='pt'\n",
        "    )\n",
        "    return tokens\n",
        "\n",
        "# Функция для определения тональности текста\n",
        "def predict_sentiment(text):\n",
        "\n",
        "    tokens = tokenize_text(text)\n",
        "\n",
        "    # Ensure tokens are on the same device as the model\n",
        "    tokens = {key: value.to(model.device) for key, value in tokens.items()}\n",
        "\n",
        "    with torch.no_grad():\n",
        "        outputs = model(**tokens)\n",
        "\n",
        "    predicted_class = torch.argmax(outputs.logits, dim=1).item()\n",
        "    return predicted_class\n",
        "\n",
        "\n"
      ],
      "metadata": {
        "ExecuteTime": {
          "end_time": "2024-04-16T19:39:44.988669Z",
          "start_time": "2024-04-16T19:39:44.549670Z"
        },
        "id": "UAz9I50wlcdu"
      },
      "execution_count": null
    },
    {
      "cell_type": "code",
      "outputs": [],
      "source": [
        "\n",
        "# Применение функций\n",
        "tqdm.pandas()\n",
        "data['predicted_sentiment'] = data['text'].progress_apply(predict_sentiment)\n",
        "\n",
        "\n",
        "# Вывод строк, где знак тональности не соответствует рейтингу\n",
        "mismatched = data[data['predicted_sentiment'] != data['tone']]\n",
        "print(mismatched.length)"
      ],
      "metadata": {
        "id": "SzEDl23Dlcdu"
      },
      "execution_count": null
    },
    {
      "cell_type": "code",
      "outputs": [
        {
          "name": "stderr",
          "output_type": "stream",
          "text": [
            "100%|██████████| 87285/87285 [17:25<00:00, 83.48it/s]\n"
          ]
        },
        {
          "name": "stdout",
          "output_type": "stream",
          "text": [
            "Количество несовпадений: 22289\n",
            "                                                 text  tone  \\\n",
            "0   Ги пер весьма приемлемый. Огромный ассортимент...     1   \n",
            "4   На фото не сам олень).\\nЛюбимое место для отды...     2   \n",
            "5   Ресторан по адресу Богатырский пр. 55 к1 посещ...     1   \n",
            "6   Очень приятно погулять, когда ещё нет очень мн...     2   \n",
            "10  Маникюр+педикюр без покрытия 45 мин. Уходя нич...     1   \n",
            "\n",
            "    predicted_sentiment  \n",
            "0                     2  \n",
            "4                     1  \n",
            "5                     0  \n",
            "6                     1  \n",
            "10                    0  \n"
          ]
        },
        {
          "ename": "TypeError",
          "evalue": "evaluate_model() takes 3 positional arguments but 4 were given",
          "output_type": "error",
          "traceback": [
            "\u001b[1;31m---------------------------------------------------------------------------\u001b[0m",
            "\u001b[1;31mTypeError\u001b[0m                                 Traceback (most recent call last)",
            "Cell \u001b[1;32mIn[24], line 15\u001b[0m\n\u001b[0;32m     12\u001b[0m \u001b[38;5;28mprint\u001b[39m(mismatched[[\u001b[38;5;124m'\u001b[39m\u001b[38;5;124mtext\u001b[39m\u001b[38;5;124m'\u001b[39m, \u001b[38;5;124m'\u001b[39m\u001b[38;5;124mtone\u001b[39m\u001b[38;5;124m'\u001b[39m, \u001b[38;5;124m'\u001b[39m\u001b[38;5;124mpredicted_sentiment\u001b[39m\u001b[38;5;124m'\u001b[39m]]\u001b[38;5;241m.\u001b[39mhead())\n\u001b[0;32m     14\u001b[0m \u001b[38;5;66;03m# Детальный анализ с помощью функции evaluate_model\u001b[39;00m\n\u001b[1;32m---> 15\u001b[0m \u001b[43mevaluate_model\u001b[49m\u001b[43m(\u001b[49m\u001b[43mmodel\u001b[49m\u001b[43m,\u001b[49m\u001b[43m \u001b[49m\u001b[43mDataLoader\u001b[49m\u001b[43m(\u001b[49m\u001b[43mprepare_data\u001b[49m\u001b[43m(\u001b[49m\u001b[43mnew_data\u001b[49m\u001b[43m)\u001b[49m\u001b[43m,\u001b[49m\u001b[43m \u001b[49m\u001b[43mbatch_size\u001b[49m\u001b[38;5;241;43m=\u001b[39;49m\u001b[38;5;241;43m16\u001b[39;49m\u001b[43m)\u001b[49m\u001b[43m,\u001b[49m\u001b[43m \u001b[49m\u001b[43mdevice\u001b[49m\u001b[43m,\u001b[49m\u001b[43m \u001b[49m\u001b[43mlabel_dict\u001b[49m\u001b[43m)\u001b[49m\n",
            "\u001b[1;31mTypeError\u001b[0m: evaluate_model() takes 3 positional arguments but 4 were given"
          ]
        }
      ],
      "source": [
        "\n",
        "\n",
        "# Предсказание тональности для новых данных\n",
        "tqdm.pandas()\n",
        "new_data['predicted_sentiment'] = new_data['text'].progress_apply(predict_sentiment)\n",
        "\n",
        "# Сравнение предсказанной тональности с истинной\n",
        "mismatched = new_data[new_data['predicted_sentiment'] != new_data['tone']]\n",
        "\n",
        "# Анализ результатов\n",
        "print(\"Количество несовпадений:\", len(mismatched))\n",
        "\n",
        " #Вывод примеров несовпадений (опционально)\n",
        "print(mismatched[['text', 'tone', 'predicted_sentiment']].head())\n",
        "\n",
        "# Детальный анализ с помощью функции evaluate_model\n",
        "evaluate_model(model, DataLoader(prepare_data(new_data), batch_size=16), device)"
      ],
      "metadata": {
        "ExecuteTime": {
          "end_time": "2024-04-16T19:58:39.869272Z",
          "start_time": "2024-04-16T19:40:03.511125Z"
        },
        "id": "ik56XnTKlcdu",
        "outputId": "4518b81e-12d8-4b3f-fbcf-236e4dfc36f2"
      },
      "execution_count": null
    },
    {
      "cell_type": "code",
      "outputs": [],
      "source": [],
      "metadata": {
        "id": "EfWcjeEmlcdv"
      },
      "execution_count": null
    }
  ],
  "metadata": {
    "kernelspec": {
      "display_name": "Python 3",
      "language": "python",
      "name": "python3"
    },
    "language_info": {
      "codemirror_mode": {
        "name": "ipython",
        "version": 2
      },
      "file_extension": ".py",
      "mimetype": "text/x-python",
      "name": "python",
      "nbconvert_exporter": "python",
      "pygments_lexer": "ipython2",
      "version": "2.7.6"
    },
    "colab": {
      "provenance": []
    }
  },
  "nbformat": 4,
  "nbformat_minor": 0
}